{
  "nbformat": 4,
  "nbformat_minor": 0,
  "metadata": {
    "colab": {
      "name": "Untitled0.ipynb",
      "provenance": [],
      "authorship_tag": "ABX9TyPueM62TaPjEXWF8Pr9svVn",
      "include_colab_link": true
    },
    "kernelspec": {
      "name": "python3",
      "display_name": "Python 3"
    }
  },
  "cells": [
    {
      "cell_type": "markdown",
      "metadata": {
        "id": "view-in-github",
        "colab_type": "text"
      },
      "source": [
        "<a href=\"https://colab.research.google.com/github/ginnichauhan/ginnichauhan/blob/main/Untitled0.ipynb\" target=\"_parent\"><img src=\"https://colab.research.google.com/assets/colab-badge.svg\" alt=\"Open In Colab\"/></a>"
      ]
    },
    {
      "cell_type": "code",
      "metadata": {
        "colab": {
          "base_uri": "https://localhost:8080/"
        },
        "id": "RSsgN3A8voWt",
        "outputId": "dbbded2b-2844-418d-960c-d3628558a852"
      },
      "source": [
        "input=input().lower()\r\n",
        "Vowels = {x: input.count(x) for x in \"aeiou\"}\r\n",
        "print(\"vowels in sentence—\"+str(list(Vowels.keys()))+\"\\n Each vowel repeated as—\"+str(list(Vowels.values())))"
      ],
      "execution_count": 1,
      "outputs": [
        {
          "output_type": "stream",
          "text": [
            "ginnichauhan\n",
            "vowels in sentence—['a', 'e', 'i', 'o', 'u']\n",
            " Each vowel repeated as—[2, 0, 2, 0, 1]\n"
          ],
          "name": "stdout"
        }
      ]
    },
    {
      "cell_type": "code",
      "metadata": {
        "id": "tXDS2mcnvuiS"
      },
      "source": [
        ""
      ],
      "execution_count": null,
      "outputs": []
    }
  ]
}