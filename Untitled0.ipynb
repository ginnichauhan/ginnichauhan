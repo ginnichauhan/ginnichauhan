{
  "nbformat": 4,
  "nbformat_minor": 0,
  "metadata": {
    "colab": {
      "name": "Untitled0.ipynb",
      "provenance": [],
      "authorship_tag": "ABX9TyNBjRdqsfJ1H5HvM2N4JDrV",
      "include_colab_link": true
    },
    "kernelspec": {
      "name": "python3",
      "display_name": "Python 3"
    }
  },
  "cells": [
    {
      "cell_type": "markdown",
      "metadata": {
        "id": "view-in-github",
        "colab_type": "text"
      },
      "source": [
        "<a href=\"https://colab.research.google.com/github/ginnichauhan/ginnichauhan/blob/main/Untitled0.ipynb\" target=\"_parent\"><img src=\"https://colab.research.google.com/assets/colab-badge.svg\" alt=\"Open In Colab\"/></a>"
      ]
    },
    {
      "cell_type": "code",
      "metadata": {
        "id": "RSsgN3A8voWt"
      },
      "source": [
        "input=input().lower()\r\n",
        "Vowels = {x: input.count(x) for x in \"aeiou\"}\r\n",
        "print(\"vowels in sentence—\"+str(list(Vowels.keys()))+\"\\n Each vowel repeated as—\"+str(list(Vowels.values())))"
      ],
      "execution_count": null,
      "outputs": []
    },
    {
      "cell_type": "code",
      "metadata": {
        "id": "tXDS2mcnvuiS"
      },
      "source": [
        "a= 4\n",
        "b= 3\n",
        "c=a+b\n",
        "d=a-b\n",
        "e= a*b\n",
        "f=a/b\n",
        "g=a%b\n",
        "print(c,d,e,f,g)"
      ],
      "execution_count": null,
      "outputs": []
    },
    {
      "cell_type": "code",
      "metadata": {
        "id": "cLBDL_bdvYdo"
      },
      "source": [
        "a= eval(input(\"enter the first  number\"))\n",
        "b = eval(input('enter the second number'))\n",
        "print(type(a))\n",
        "print(type(b))\n"
      ],
      "execution_count": null,
      "outputs": []
    },
    {
      "cell_type": "code",
      "metadata": {
        "id": "0aD0OqMEvZK5",
        "colab": {
          "base_uri": "https://localhost:8080/"
        },
        "outputId": "b8039439-0887-416e-9401-f135a8dea993"
      },
      "source": [
        "k=int(input(\"Message Sender : \\n Hello MIT CELL: \\n Please enter k value to shift transform message:\"))\r\n",
        "output=\"\"\r\n",
        "s=input('Now please type your message:')\r\n",
        "for x in s:\r\n",
        "  if x in \"!@#$%^&*()-+?_=,<>/\":\r\n",
        "    output+=x\r\n",
        "  elif x ==\" \":\r\n",
        "    output+=\"@\"\r\n",
        "  elif x ==\".\":\r\n",
        "    output+=\"#\"\r\n",
        "  else:\r\n",
        "    y=ord(x)+k\r\n",
        "    m=chr(y)\r\n",
        "    output+=m\r\n",
        "print(\"You send-\"+output)\r\n",
        "print(\"Message Receiver :\\n Hello Instructor: \\n You got a message:\"+output)\r\n",
        "k=int(input(\"to read this message enter the value of k provided by cell\"))\r\n",
        "output1=\"\"\r\n",
        "for x in output:\r\n",
        "  if x in \"!@#$%^&*()-+?_=,<>/\":\r\n",
        "    output1+=x\r\n",
        "  elif x ==\"@\":\r\n",
        "    output1+=\" \"\r\n",
        "  elif x ==\"#\":\r\n",
        "    output1+=\".\"\r\n",
        "  else:\r\n",
        "    y=ord(x)-k\r\n",
        "    m=chr(y)\r\n",
        "    output1+=m\r\n",
        "print(\"Original Message:\"+output1)"
      ],
      "execution_count": 1,
      "outputs": [
        {
          "output_type": "stream",
          "text": [
            "Message Sender : \n",
            " Hello MIT CELL: \n",
            " Please enter k value to shift transform message:3\n",
            "Now please type your message:Acb$123@.\n",
            "You send-Dfe$456@#\n",
            "Message Receiver :\n",
            " Hello Instructor: \n",
            " You got a message:Dfe$456@#\n",
            "to read this message enter the value of k provided by cell3\n",
            "Original Message:Acb$123@#\n"
          ],
          "name": "stdout"
        }
      ]
    },
    {
      "cell_type": "code",
      "metadata": {
        "id": "whfgor97izn5"
      },
      "source": [
        ""
      ],
      "execution_count": null,
      "outputs": []
    }
  ]
}